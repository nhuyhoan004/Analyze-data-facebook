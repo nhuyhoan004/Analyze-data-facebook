{
 "cells": [
  {
   "cell_type": "code",
   "execution_count": 33,
   "metadata": {},
   "outputs": [],
   "source": [
    "import pandas as pd\n",
    "import matplotlib.pyplot as plt\n",
    "import seaborn as sns\n",
    "import numpy as np\n",
    "import matplotlib.pyplot as plt"
   ]
  },
  {
   "cell_type": "code",
   "execution_count": 34,
   "metadata": {},
   "outputs": [],
   "source": [
    "# đọc dữ liệu file\n",
    "df = pd.read_csv('Data/LordsMobileVN_clean.csv')"
   ]
  },
  {
   "cell_type": "code",
   "execution_count": 35,
   "metadata": {},
   "outputs": [],
   "source": [
    "# Chuyển dữ liệu sang file để nhìn cho trực quan hơn\n",
    "path ='Data/LordsMobileVN_clean.csv'\n",
    "post_df = pd.DataFrame(df)\n",
    "post_df.to_csv(path, index=False)"
   ]
  },
  {
   "cell_type": "code",
   "execution_count": 36,
   "metadata": {},
   "outputs": [
    {
     "name": "stderr",
     "output_type": "stream",
     "text": [
      "C:\\Users\\nhuyh\\AppData\\Local\\Temp\\ipykernel_17152\\1155545642.py:3: FutureWarning: Returning a DataFrame from Series.apply when the supplied function returns a Series is deprecated and will be removed in a future version.\n",
      "  df_post_1 = df_post['reactions'].apply(pd.Series )\n"
     ]
    },
    {
     "data": {
      "text/html": [
       "<div>\n",
       "<style scoped>\n",
       "    .dataframe tbody tr th:only-of-type {\n",
       "        vertical-align: middle;\n",
       "    }\n",
       "\n",
       "    .dataframe tbody tr th {\n",
       "        vertical-align: top;\n",
       "    }\n",
       "\n",
       "    .dataframe thead th {\n",
       "        text-align: right;\n",
       "    }\n",
       "</style>\n",
       "<table border=\"1\" class=\"dataframe\">\n",
       "  <thead>\n",
       "    <tr style=\"text-align: right;\">\n",
       "      <th></th>\n",
       "      <th>post_text</th>\n",
       "      <th>like</th>\n",
       "      <th>love</th>\n",
       "      <th>haha</th>\n",
       "      <th>wow</th>\n",
       "      <th>sad</th>\n",
       "      <th>angry</th>\n",
       "      <th>care</th>\n",
       "      <th>shares</th>\n",
       "      <th>comments</th>\n",
       "      <th>reaction_count</th>\n",
       "    </tr>\n",
       "  </thead>\n",
       "  <tbody>\n",
       "    <tr>\n",
       "      <th>0</th>\n",
       "      <td>Sự hợp tác hoành tráng giữa Lords Mobile x Arm...</td>\n",
       "      <td>54.0</td>\n",
       "      <td>4.0</td>\n",
       "      <td>1.0</td>\n",
       "      <td>0.0</td>\n",
       "      <td>0.0</td>\n",
       "      <td>0.0</td>\n",
       "      <td>0.0</td>\n",
       "      <td>2</td>\n",
       "      <td>4</td>\n",
       "      <td>59</td>\n",
       "    </tr>\n",
       "    <tr>\n",
       "      <th>1</th>\n",
       "      <td>🥹 Không có so sánh, không có đau thương</td>\n",
       "      <td>97.0</td>\n",
       "      <td>0.0</td>\n",
       "      <td>25.0</td>\n",
       "      <td>0.0</td>\n",
       "      <td>0.0</td>\n",
       "      <td>0.0</td>\n",
       "      <td>0.0</td>\n",
       "      <td>1</td>\n",
       "      <td>17</td>\n",
       "      <td>122</td>\n",
       "    </tr>\n",
       "    <tr>\n",
       "      <th>2</th>\n",
       "      <td>Hồi xưa thấy bình thường ha, giờ thì quý lắm l...</td>\n",
       "      <td>130.0</td>\n",
       "      <td>3.0</td>\n",
       "      <td>30.0</td>\n",
       "      <td>1.0</td>\n",
       "      <td>1.0</td>\n",
       "      <td>0.0</td>\n",
       "      <td>0.0</td>\n",
       "      <td>0</td>\n",
       "      <td>22</td>\n",
       "      <td>165</td>\n",
       "    </tr>\n",
       "    <tr>\n",
       "      <th>3</th>\n",
       "      <td>0</td>\n",
       "      <td>91.0</td>\n",
       "      <td>2.0</td>\n",
       "      <td>6.0</td>\n",
       "      <td>0.0</td>\n",
       "      <td>0.0</td>\n",
       "      <td>0.0</td>\n",
       "      <td>0.0</td>\n",
       "      <td>0</td>\n",
       "      <td>17</td>\n",
       "      <td>99</td>\n",
       "    </tr>\n",
       "    <tr>\n",
       "      <th>4</th>\n",
       "      <td>🎁 THỬ THÁCH GIẢI ĐỐ 7 NGÀY 6 ĐÊM GÉT GÔ 🎁\\r\\n▪...</td>\n",
       "      <td>96.0</td>\n",
       "      <td>2.0</td>\n",
       "      <td>0.0</td>\n",
       "      <td>0.0</td>\n",
       "      <td>0.0</td>\n",
       "      <td>0.0</td>\n",
       "      <td>0.0</td>\n",
       "      <td>1</td>\n",
       "      <td>244</td>\n",
       "      <td>98</td>\n",
       "    </tr>\n",
       "    <tr>\n",
       "      <th>...</th>\n",
       "      <td>...</td>\n",
       "      <td>...</td>\n",
       "      <td>...</td>\n",
       "      <td>...</td>\n",
       "      <td>...</td>\n",
       "      <td>...</td>\n",
       "      <td>...</td>\n",
       "      <td>...</td>\n",
       "      <td>...</td>\n",
       "      <td>...</td>\n",
       "      <td>...</td>\n",
       "    </tr>\n",
       "    <tr>\n",
       "      <th>195</th>\n",
       "      <td>Mời các nông dân vườn khoai trả lời ạ !</td>\n",
       "      <td>183.0</td>\n",
       "      <td>2.0</td>\n",
       "      <td>44.0</td>\n",
       "      <td>2.0</td>\n",
       "      <td>2.0</td>\n",
       "      <td>1.0</td>\n",
       "      <td>0.0</td>\n",
       "      <td>0</td>\n",
       "      <td>79</td>\n",
       "      <td>234</td>\n",
       "    </tr>\n",
       "    <tr>\n",
       "      <th>196</th>\n",
       "      <td>Sau bao nhiêu năm, người đàn ông tôi cần nhất ...</td>\n",
       "      <td>96.0</td>\n",
       "      <td>3.0</td>\n",
       "      <td>27.0</td>\n",
       "      <td>0.0</td>\n",
       "      <td>0.0</td>\n",
       "      <td>0.0</td>\n",
       "      <td>1.0</td>\n",
       "      <td>1</td>\n",
       "      <td>43</td>\n",
       "      <td>127</td>\n",
       "    </tr>\n",
       "    <tr>\n",
       "      <th>197</th>\n",
       "      <td>🧑‍⚕️ Nào mình cùng đến thăm bệnh nhân tại Thán...</td>\n",
       "      <td>176.0</td>\n",
       "      <td>3.0</td>\n",
       "      <td>164.0</td>\n",
       "      <td>2.0</td>\n",
       "      <td>3.0</td>\n",
       "      <td>0.0</td>\n",
       "      <td>2.0</td>\n",
       "      <td>1</td>\n",
       "      <td>57</td>\n",
       "      <td>350</td>\n",
       "    </tr>\n",
       "    <tr>\n",
       "      <th>198</th>\n",
       "      <td>Chào tháng 8 cùng nhiều sự kiện hấp dẫn diễn r...</td>\n",
       "      <td>132.0</td>\n",
       "      <td>7.0</td>\n",
       "      <td>1.0</td>\n",
       "      <td>0.0</td>\n",
       "      <td>0.0</td>\n",
       "      <td>0.0</td>\n",
       "      <td>0.0</td>\n",
       "      <td>1</td>\n",
       "      <td>27</td>\n",
       "      <td>140</td>\n",
       "    </tr>\n",
       "    <tr>\n",
       "      <th>199</th>\n",
       "      <td>😎 Bận bộ full cham cam auto đẹp nha các Boss !</td>\n",
       "      <td>247.0</td>\n",
       "      <td>2.0</td>\n",
       "      <td>70.0</td>\n",
       "      <td>0.0</td>\n",
       "      <td>2.0</td>\n",
       "      <td>1.0</td>\n",
       "      <td>1.0</td>\n",
       "      <td>1</td>\n",
       "      <td>55</td>\n",
       "      <td>323</td>\n",
       "    </tr>\n",
       "  </tbody>\n",
       "</table>\n",
       "<p>200 rows × 11 columns</p>\n",
       "</div>"
      ],
      "text/plain": [
       "                                             post_text   like  love   haha  \\\n",
       "0    Sự hợp tác hoành tráng giữa Lords Mobile x Arm...   54.0   4.0    1.0   \n",
       "1              🥹 Không có so sánh, không có đau thương   97.0   0.0   25.0   \n",
       "2    Hồi xưa thấy bình thường ha, giờ thì quý lắm l...  130.0   3.0   30.0   \n",
       "3                                                    0   91.0   2.0    6.0   \n",
       "4    🎁 THỬ THÁCH GIẢI ĐỐ 7 NGÀY 6 ĐÊM GÉT GÔ 🎁\\r\\n▪...   96.0   2.0    0.0   \n",
       "..                                                 ...    ...   ...    ...   \n",
       "195            Mời các nông dân vườn khoai trả lời ạ !  183.0   2.0   44.0   \n",
       "196  Sau bao nhiêu năm, người đàn ông tôi cần nhất ...   96.0   3.0   27.0   \n",
       "197  🧑‍⚕️ Nào mình cùng đến thăm bệnh nhân tại Thán...  176.0   3.0  164.0   \n",
       "198  Chào tháng 8 cùng nhiều sự kiện hấp dẫn diễn r...  132.0   7.0    1.0   \n",
       "199     😎 Bận bộ full cham cam auto đẹp nha các Boss !  247.0   2.0   70.0   \n",
       "\n",
       "     wow  sad  angry  care  shares  comments  reaction_count  \n",
       "0    0.0  0.0    0.0   0.0       2         4              59  \n",
       "1    0.0  0.0    0.0   0.0       1        17             122  \n",
       "2    1.0  1.0    0.0   0.0       0        22             165  \n",
       "3    0.0  0.0    0.0   0.0       0        17              99  \n",
       "4    0.0  0.0    0.0   0.0       1       244              98  \n",
       "..   ...  ...    ...   ...     ...       ...             ...  \n",
       "195  2.0  2.0    1.0   0.0       0        79             234  \n",
       "196  0.0  0.0    0.0   1.0       1        43             127  \n",
       "197  2.0  3.0    0.0   2.0       1        57             350  \n",
       "198  0.0  0.0    0.0   0.0       1        27             140  \n",
       "199  0.0  2.0    1.0   1.0       1        55             323  \n",
       "\n",
       "[200 rows x 11 columns]"
      ]
     },
     "execution_count": 36,
     "metadata": {},
     "output_type": "execute_result"
    }
   ],
   "source": [
    "df_post = df\n",
    "df_post['reactions'] = df_post['reactions'].apply(lambda x : dict(eval(x)) )\n",
    "df_post_1 = df_post['reactions'].apply(pd.Series )\n",
    "# Merge cột vào dataframe\n",
    "df_post_2 = pd.concat([df_post, df_post_1], axis=1).drop('reactions', axis=1)\n",
    "df_post_2= df_post_2.fillna(0)\n",
    "df_post_2[['post_text','like','love','haha','wow','sad','angry','care',\n",
    "                                 'shares','comments','reaction_count']]"
   ]
  },
  {
   "cell_type": "markdown",
   "metadata": {},
   "source": [
    "# Phân tích comment"
   ]
  },
  {
   "cell_type": "code",
   "execution_count": 37,
   "metadata": {},
   "outputs": [
    {
     "data": {
      "text/plain": [
       "12543"
      ]
     },
     "execution_count": 37,
     "metadata": {},
     "output_type": "execute_result"
    }
   ],
   "source": [
    "# tổng số lượng comment\n",
    "sum(df_post.comments)"
   ]
  },
  {
   "cell_type": "code",
   "execution_count": 38,
   "metadata": {},
   "outputs": [
    {
     "data": {
      "text/plain": [
       "62.715"
      ]
     },
     "execution_count": 38,
     "metadata": {},
     "output_type": "execute_result"
    }
   ],
   "source": [
    "# số lượng comment trung bình\n",
    "df_post.comments.mean()"
   ]
  },
  {
   "cell_type": "code",
   "execution_count": 39,
   "metadata": {},
   "outputs": [
    {
     "data": {
      "text/plain": [
       "33.5"
      ]
     },
     "execution_count": 39,
     "metadata": {},
     "output_type": "execute_result"
    }
   ],
   "source": [
    "# số lượng comment của các bài đăng dao động trong khoảng\n",
    "df_post.comments.median()"
   ]
  },
  {
   "cell_type": "code",
   "execution_count": 40,
   "metadata": {},
   "outputs": [
    {
     "data": {
      "text/plain": [
       "<Axes: xlabel='index'>"
      ]
     },
     "execution_count": 40,
     "metadata": {},
     "output_type": "execute_result"
    },
    {
     "data": {
      "image/png": "[encoded data removed]",
      "text/plain": [
       "<Figure size 640x480 with 1 Axes>"
      ]
     },
     "metadata": {},
     "output_type": "display_data"
    }
   ],
   "source": [
    "# biến động số lượt comment qua từng bài đăng\n",
    "# thêm index cho dataframe\n",
    "df_post = df_post.reset_index(inplace = False)\n",
    "df_post[\"index\"] = df_post[\"index\"] + 1\n",
    "df_post.plot(kind = \"line\", x = \"index\", y = \"comments\")"
   ]
  }
 ],
 "metadata": {
  "kernelspec": {
   "display_name": "Python 3",
   "language": "python",
   "name": "python3"
  },
  "language_info": {
   "codemirror_mode": {
    "name": "ipython",
    "version": 3
   },
   "file_extension": ".py",
   "mimetype": "text/x-python",
   "name": "python",
   "nbconvert_exporter": "python",
   "pygments_lexer": "ipython3",
   "version": "3.10.11"
  }
 },
 "nbformat": 4,
 "nbformat_minor": 2
}
